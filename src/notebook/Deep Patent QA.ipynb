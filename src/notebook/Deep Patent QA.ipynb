{
 "cells": [
  {
   "cell_type": "code",
   "execution_count": 1,
   "id": "04f42de6-1d1d-4c81-b4c1-9024c520f6fb",
   "metadata": {},
   "outputs": [
    {
     "name": "stderr",
     "output_type": "stream",
     "text": [
      "C:\\eprojects\\conda3\\envs\\langgraph-env\\lib\\site-packages\\tqdm\\auto.py:21: TqdmWarning: IProgress not found. Please update jupyter and ipywidgets. See https://ipywidgets.readthedocs.io/en/stable/user_install.html\n",
      "  from .autonotebook import tqdm as notebook_tqdm\n"
     ]
    }
   ],
   "source": [
    "import sys\n",
    "import json\n",
    "\n",
    "sys.path.append(\"C:/eprojects/P4S/python-repos/research/Patent Deep Research/\")\n",
    "\n",
    "import streamlit.components.v1 as components\n",
    "from src.agents.main import run_deep_research, run_chat_deep_research"
   ]
  },
  {
   "cell_type": "code",
   "execution_count": 2,
   "id": "817402f0-b2e5-42ae-b4bf-211bf143d5e8",
   "metadata": {},
   "outputs": [],
   "source": [
    "SYSTEM_PROMPT = \"\"\"You will act as a patent expert for analysing patents and perform a deep research\"\"\"\n",
    "    # Define the user's initial question about exchange rates.\n",
    "USER_PROMPT = \"What are the potential effects and risks associated with plasma-based skin treatments?\"\n",
    "model_name = \"gemini\"\n"
   ]
  },
  {
   "cell_type": "code",
   "execution_count": 5,
   "id": "3354b8f0-c87e-4fa8-96ae-d470e64b90e2",
   "metadata": {},
   "outputs": [],
   "source": [
    " results = run_chat_deep_research(SYSTEM_PROMPT, USER_PROMPT, model_name)"
   ]
  },
  {
   "cell_type": "code",
   "execution_count": 8,
   "id": "71a5327e-b4dd-46d2-9229-4f152638e62a",
   "metadata": {},
   "outputs": [],
   "source": [
    "output = results['finalize_answer'][\"answer\"]\n",
    "\n",
    "output_cleaned = output.replace(\"```json\", \"\").replace(\"```\", \"\")\n",
    "output_json = json.loads(output_cleaned)"
   ]
  },
  {
   "cell_type": "code",
   "execution_count": 9,
   "id": "62b977a3-c56a-45fc-bd36-1d4a3b2c2fee",
   "metadata": {},
   "outputs": [
    {
     "data": {
      "text/plain": [
       "'Plasma treatments can have various skin resurfacing effects depending on the energy delivered (US6629974B2, US6723091B2, EP2301460B1). Applying high power in short pulses can vaporize the epidermis, resulting in superficial skin resurfacing with short healing times (US6629974B2, US6723091B2, EP2301460B1). Plasma can also be used for disinfection, skin tissue activation, skin cell regeneration, and hemostasis (US20160331989A1). It may also be used for wrinkle removal and skin elasticity recovery (US20160331989A1). Non-thermal plasma enables transdermal delivery of macromolecules, drugs, and vaccines without harming the skin and sterilizes the skin during plasmaporation (US20170246468A1). However, mistakes by the operator when applying energy can cause skin damage, especially in sensitive areas (WO2023281303A1).'"
      ]
     },
     "execution_count": 9,
     "metadata": {},
     "output_type": "execute_result"
    }
   ],
   "source": [
    "output_json[\"answer\"]"
   ]
  },
  {
   "cell_type": "code",
   "execution_count": 14,
   "id": "94f28192-cc24-41d2-99f5-21b76bd8bc65",
   "metadata": {},
   "outputs": [
    {
     "data": {
      "text/plain": [
       "['US6629974B2',\n",
       " 'US6723091B2',\n",
       " 'EP2301460B1',\n",
       " 'US20160331989A1',\n",
       " 'US20170246468A1',\n",
       " 'WO2023281303A1']"
      ]
     },
     "execution_count": 14,
     "metadata": {},
     "output_type": "execute_result"
    }
   ],
   "source": [
    "output_json[\"sources\"]"
   ]
  },
  {
   "cell_type": "code",
   "execution_count": null,
   "id": "a7dfb8c6-7086-4334-8287-e28c6f9358e7",
   "metadata": {},
   "outputs": [],
   "source": []
  },
  {
   "cell_type": "code",
   "execution_count": 3,
   "id": "1beae2c7-b3c8-47ce-a919-1fee1f6710dc",
   "metadata": {},
   "outputs": [],
   "source": [
    "USER_PROMPT = \"What are the effects of cold plasma treatment on foodborne pathogens and food contaminants? \""
   ]
  },
  {
   "cell_type": "code",
   "execution_count": 4,
   "id": "84612997-63b0-4129-926c-a1e1a016a9e8",
   "metadata": {},
   "outputs": [],
   "source": [
    "results1 = run_chat_deep_research(SYSTEM_PROMPT, USER_PROMPT, model_name)"
   ]
  },
  {
   "cell_type": "code",
   "execution_count": 5,
   "id": "513114e4-1341-41a1-8704-c657c4f50e34",
   "metadata": {},
   "outputs": [],
   "source": [
    "output = results1['finalize_answer'][\"answer\"]\n",
    "\n",
    "output_cleaned = output.replace(\"```json\", \"\").replace(\"```\", \"\")\n",
    "output_json = json.loads(output_cleaned)"
   ]
  },
  {
   "cell_type": "code",
   "execution_count": 6,
   "id": "3edccc78-10b2-471a-b165-c496951e463a",
   "metadata": {},
   "outputs": [
    {
     "data": {
      "text/plain": [
       "'Cold plasma treatment inactivates food-borne pathogens (US20190224354A1). It destroys or denatures microbiological contaminants like bacteria, viruses, fungi, and protozoa or their toxins and by-products present in food or on contact food surfaces (US20190224354A1). It is effective against common bacterial foodborne pathogens such as Salmonella enterica (Se), Shiga toxin-producing E. coli (STEC), and Listeria monocytogenes (Lm) (US20190224354A1). Cold plasma can also denature allergens and toxins (EP2931067B1).'"
      ]
     },
     "execution_count": 6,
     "metadata": {},
     "output_type": "execute_result"
    }
   ],
   "source": [
    "output_json[\"answer\"]"
   ]
  },
  {
   "cell_type": "code",
   "execution_count": 7,
   "id": "fd908956-9cd1-47ee-acee-2c633565ba92",
   "metadata": {},
   "outputs": [
    {
     "data": {
      "text/plain": [
       "['US20190224354A1', 'EP2931067B1']"
      ]
     },
     "execution_count": 7,
     "metadata": {},
     "output_type": "execute_result"
    }
   ],
   "source": [
    "output_json[\"sources\"]"
   ]
  },
  {
   "cell_type": "code",
   "execution_count": null,
   "id": "fba429f7-8f50-4b75-afb5-002bbae9a982",
   "metadata": {},
   "outputs": [],
   "source": []
  }
 ],
 "metadata": {
  "kernelspec": {
   "display_name": "Python 3 (ipykernel)",
   "language": "python",
   "name": "python3"
  },
  "language_info": {
   "codemirror_mode": {
    "name": "ipython",
    "version": 3
   },
   "file_extension": ".py",
   "mimetype": "text/x-python",
   "name": "python",
   "nbconvert_exporter": "python",
   "pygments_lexer": "ipython3",
   "version": "3.10.16"
  }
 },
 "nbformat": 4,
 "nbformat_minor": 5
}
